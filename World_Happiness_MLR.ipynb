{
 "cells": [
  {
   "cell_type": "markdown",
   "id": "f48a2cb8",
   "metadata": {},
   "source": [
    "# World Happiness Index: Multiple Linear Regression"
   ]
  },
  {
   "cell_type": "markdown",
   "id": "cbdd2cfa",
   "metadata": {},
   "source": [
    "## 1- Which features could explain our linear model predicting World Happiness Index?"
   ]
  },
  {
   "cell_type": "code",
   "execution_count": 1,
   "id": "a6f17179",
   "metadata": {},
   "outputs": [],
   "source": [
    "# import libraries\n",
    "\n",
    "import pandas as pd\n",
    "import numpy as np\n",
    "import seaborn as sns\n",
    "from matplotlib import pyplot as plt\n",
    "import statsmodels.formula.api as smf\n",
    "import statsmodels.api as sm"
   ]
  },
  {
   "cell_type": "code",
   "execution_count": 2,
   "id": "a2896a6b",
   "metadata": {},
   "outputs": [],
   "source": [
    "# reading csv file\n",
    "\n",
    "path= 'C:/Users/vanes/OneDrive/Documentos/PROJETOS_PORTFOLIO/PYTHON/Best_Countries_Live/best_countries_live.csv'\n",
    "\n",
    "df = pd.read_csv(path)"
   ]
  },
  {
   "cell_type": "code",
   "execution_count": 3,
   "id": "6e68d42c",
   "metadata": {},
   "outputs": [
    {
     "data": {
      "text/html": [
       "<div>\n",
       "<style scoped>\n",
       "    .dataframe tbody tr th:only-of-type {\n",
       "        vertical-align: middle;\n",
       "    }\n",
       "\n",
       "    .dataframe tbody tr th {\n",
       "        vertical-align: top;\n",
       "    }\n",
       "\n",
       "    .dataframe thead th {\n",
       "        text-align: right;\n",
       "    }\n",
       "</style>\n",
       "<table border=\"1\" class=\"dataframe\">\n",
       "  <thead>\n",
       "    <tr style=\"text-align: right;\">\n",
       "      <th></th>\n",
       "      <th>population_2024</th>\n",
       "      <th>population_growthRate</th>\n",
       "      <th>land_area</th>\n",
       "      <th>country</th>\n",
       "      <th>region</th>\n",
       "      <th>unMember</th>\n",
       "      <th>population_density</th>\n",
       "      <th>population_densityMi</th>\n",
       "      <th>share_borders</th>\n",
       "      <th>Hdi2021</th>\n",
       "      <th>Hdi2020</th>\n",
       "      <th>WorldHappiness2022</th>\n",
       "    </tr>\n",
       "  </thead>\n",
       "  <tbody>\n",
       "    <tr>\n",
       "      <th>0</th>\n",
       "      <td>1441719852</td>\n",
       "      <td>0.00916</td>\n",
       "      <td>3287590</td>\n",
       "      <td>India</td>\n",
       "      <td>Asia</td>\n",
       "      <td>True</td>\n",
       "      <td>484.9067</td>\n",
       "      <td>1255.9084</td>\n",
       "      <td>AFG, BGD, BTN, MMR, CHN, NPL, PAK, LKA</td>\n",
       "      <td>0.633</td>\n",
       "      <td>0.642</td>\n",
       "      <td>3.777</td>\n",
       "    </tr>\n",
       "    <tr>\n",
       "      <th>1</th>\n",
       "      <td>1425178782</td>\n",
       "      <td>-0.00035</td>\n",
       "      <td>9706961</td>\n",
       "      <td>China</td>\n",
       "      <td>Asia</td>\n",
       "      <td>True</td>\n",
       "      <td>151.2174</td>\n",
       "      <td>391.6530</td>\n",
       "      <td>AFG, BTN, MMR, HKG, IND, KAZ, PRK, KGZ, LAO, M...</td>\n",
       "      <td>0.768</td>\n",
       "      <td>0.764</td>\n",
       "      <td>5.585</td>\n",
       "    </tr>\n",
       "    <tr>\n",
       "      <th>2</th>\n",
       "      <td>341814420</td>\n",
       "      <td>0.00535</td>\n",
       "      <td>9372610</td>\n",
       "      <td>United States</td>\n",
       "      <td>North America</td>\n",
       "      <td>True</td>\n",
       "      <td>37.3673</td>\n",
       "      <td>96.7813</td>\n",
       "      <td>CAN, MEX</td>\n",
       "      <td>0.921</td>\n",
       "      <td>0.920</td>\n",
       "      <td>6.977</td>\n",
       "    </tr>\n",
       "    <tr>\n",
       "      <th>3</th>\n",
       "      <td>279798049</td>\n",
       "      <td>0.00816</td>\n",
       "      <td>1904569</td>\n",
       "      <td>Indonesia</td>\n",
       "      <td>Asia</td>\n",
       "      <td>True</td>\n",
       "      <td>149.0254</td>\n",
       "      <td>385.9758</td>\n",
       "      <td>TLS, MYS, PNG</td>\n",
       "      <td>0.705</td>\n",
       "      <td>0.709</td>\n",
       "      <td>5.240</td>\n",
       "    </tr>\n",
       "    <tr>\n",
       "      <th>4</th>\n",
       "      <td>245209815</td>\n",
       "      <td>0.01964</td>\n",
       "      <td>881912</td>\n",
       "      <td>Pakistan</td>\n",
       "      <td>Asia</td>\n",
       "      <td>True</td>\n",
       "      <td>318.0908</td>\n",
       "      <td>823.8551</td>\n",
       "      <td>AFG, CHN, IND, IRN</td>\n",
       "      <td>0.544</td>\n",
       "      <td>0.543</td>\n",
       "      <td>4.516</td>\n",
       "    </tr>\n",
       "  </tbody>\n",
       "</table>\n",
       "</div>"
      ],
      "text/plain": [
       "   population_2024  population_growthRate  land_area        country  \\\n",
       "0       1441719852                0.00916    3287590          India   \n",
       "1       1425178782               -0.00035    9706961          China   \n",
       "2        341814420                0.00535    9372610  United States   \n",
       "3        279798049                0.00816    1904569      Indonesia   \n",
       "4        245209815                0.01964     881912       Pakistan   \n",
       "\n",
       "          region  unMember  population_density  population_densityMi  \\\n",
       "0           Asia      True            484.9067             1255.9084   \n",
       "1           Asia      True            151.2174              391.6530   \n",
       "2  North America      True             37.3673               96.7813   \n",
       "3           Asia      True            149.0254              385.9758   \n",
       "4           Asia      True            318.0908              823.8551   \n",
       "\n",
       "                                       share_borders  Hdi2021  Hdi2020  \\\n",
       "0             AFG, BGD, BTN, MMR, CHN, NPL, PAK, LKA    0.633    0.642   \n",
       "1  AFG, BTN, MMR, HKG, IND, KAZ, PRK, KGZ, LAO, M...    0.768    0.764   \n",
       "2                                           CAN, MEX    0.921    0.920   \n",
       "3                                      TLS, MYS, PNG    0.705    0.709   \n",
       "4                                 AFG, CHN, IND, IRN    0.544    0.543   \n",
       "\n",
       "   WorldHappiness2022  \n",
       "0               3.777  \n",
       "1               5.585  \n",
       "2               6.977  \n",
       "3               5.240  \n",
       "4               4.516  "
      ]
     },
     "execution_count": 3,
     "metadata": {},
     "output_type": "execute_result"
    }
   ],
   "source": [
    "df.head()"
   ]
  },
  {
   "cell_type": "code",
   "execution_count": 4,
   "id": "98250dce",
   "metadata": {},
   "outputs": [
    {
     "data": {
      "text/html": [
       "<div>\n",
       "<style scoped>\n",
       "    .dataframe tbody tr th:only-of-type {\n",
       "        vertical-align: middle;\n",
       "    }\n",
       "\n",
       "    .dataframe tbody tr th {\n",
       "        vertical-align: top;\n",
       "    }\n",
       "\n",
       "    .dataframe thead th {\n",
       "        text-align: right;\n",
       "    }\n",
       "</style>\n",
       "<table border=\"1\" class=\"dataframe\">\n",
       "  <thead>\n",
       "    <tr style=\"text-align: right;\">\n",
       "      <th></th>\n",
       "      <th>population_2024</th>\n",
       "      <th>population_growthRate</th>\n",
       "      <th>land_area</th>\n",
       "      <th>population_density</th>\n",
       "      <th>population_densityMi</th>\n",
       "      <th>Hdi2021</th>\n",
       "      <th>Hdi2020</th>\n",
       "      <th>WorldHappiness2022</th>\n",
       "    </tr>\n",
       "  </thead>\n",
       "  <tbody>\n",
       "    <tr>\n",
       "      <th>count</th>\n",
       "      <td>1.410000e+02</td>\n",
       "      <td>141.000000</td>\n",
       "      <td>1.410000e+02</td>\n",
       "      <td>141.000000</td>\n",
       "      <td>141.000000</td>\n",
       "      <td>141.000000</td>\n",
       "      <td>141.000000</td>\n",
       "      <td>141.000000</td>\n",
       "    </tr>\n",
       "    <tr>\n",
       "      <th>mean</th>\n",
       "      <td>5.422157e+07</td>\n",
       "      <td>0.009327</td>\n",
       "      <td>8.734306e+05</td>\n",
       "      <td>272.742080</td>\n",
       "      <td>706.401985</td>\n",
       "      <td>0.737199</td>\n",
       "      <td>0.737596</td>\n",
       "      <td>5.542582</td>\n",
       "    </tr>\n",
       "    <tr>\n",
       "      <th>std</th>\n",
       "      <td>1.749363e+08</td>\n",
       "      <td>0.012112</td>\n",
       "      <td>2.200180e+06</td>\n",
       "      <td>945.620017</td>\n",
       "      <td>2449.155844</td>\n",
       "      <td>0.153844</td>\n",
       "      <td>0.152319</td>\n",
       "      <td>1.105247</td>\n",
       "    </tr>\n",
       "    <tr>\n",
       "      <th>min</th>\n",
       "      <td>3.776890e+05</td>\n",
       "      <td>-0.030870</td>\n",
       "      <td>3.160000e+02</td>\n",
       "      <td>2.243100</td>\n",
       "      <td>5.809600</td>\n",
       "      <td>0.394000</td>\n",
       "      <td>0.397000</td>\n",
       "      <td>2.404000</td>\n",
       "    </tr>\n",
       "    <tr>\n",
       "      <th>25%</th>\n",
       "      <td>5.494963e+06</td>\n",
       "      <td>0.001180</td>\n",
       "      <td>6.455900e+04</td>\n",
       "      <td>37.367300</td>\n",
       "      <td>96.781300</td>\n",
       "      <td>0.607000</td>\n",
       "      <td>0.610000</td>\n",
       "      <td>4.744000</td>\n",
       "    </tr>\n",
       "    <tr>\n",
       "      <th>50%</th>\n",
       "      <td>1.171577e+07</td>\n",
       "      <td>0.008920</td>\n",
       "      <td>2.383910e+05</td>\n",
       "      <td>87.135400</td>\n",
       "      <td>225.680700</td>\n",
       "      <td>0.754000</td>\n",
       "      <td>0.756000</td>\n",
       "      <td>5.578000</td>\n",
       "    </tr>\n",
       "    <tr>\n",
       "      <th>75%</th>\n",
       "      <td>3.910705e+07</td>\n",
       "      <td>0.018230</td>\n",
       "      <td>6.522300e+05</td>\n",
       "      <td>170.267800</td>\n",
       "      <td>440.993500</td>\n",
       "      <td>0.875000</td>\n",
       "      <td>0.871000</td>\n",
       "      <td>6.293000</td>\n",
       "    </tr>\n",
       "    <tr>\n",
       "      <th>max</th>\n",
       "      <td>1.441720e+09</td>\n",
       "      <td>0.038090</td>\n",
       "      <td>1.709824e+07</td>\n",
       "      <td>8429.956800</td>\n",
       "      <td>21833.588200</td>\n",
       "      <td>0.962000</td>\n",
       "      <td>0.959000</td>\n",
       "      <td>7.821000</td>\n",
       "    </tr>\n",
       "  </tbody>\n",
       "</table>\n",
       "</div>"
      ],
      "text/plain": [
       "       population_2024  population_growthRate     land_area  \\\n",
       "count     1.410000e+02             141.000000  1.410000e+02   \n",
       "mean      5.422157e+07               0.009327  8.734306e+05   \n",
       "std       1.749363e+08               0.012112  2.200180e+06   \n",
       "min       3.776890e+05              -0.030870  3.160000e+02   \n",
       "25%       5.494963e+06               0.001180  6.455900e+04   \n",
       "50%       1.171577e+07               0.008920  2.383910e+05   \n",
       "75%       3.910705e+07               0.018230  6.522300e+05   \n",
       "max       1.441720e+09               0.038090  1.709824e+07   \n",
       "\n",
       "       population_density  population_densityMi     Hdi2021     Hdi2020  \\\n",
       "count          141.000000            141.000000  141.000000  141.000000   \n",
       "mean           272.742080            706.401985    0.737199    0.737596   \n",
       "std            945.620017           2449.155844    0.153844    0.152319   \n",
       "min              2.243100              5.809600    0.394000    0.397000   \n",
       "25%             37.367300             96.781300    0.607000    0.610000   \n",
       "50%             87.135400            225.680700    0.754000    0.756000   \n",
       "75%            170.267800            440.993500    0.875000    0.871000   \n",
       "max           8429.956800          21833.588200    0.962000    0.959000   \n",
       "\n",
       "       WorldHappiness2022  \n",
       "count          141.000000  \n",
       "mean             5.542582  \n",
       "std              1.105247  \n",
       "min              2.404000  \n",
       "25%              4.744000  \n",
       "50%              5.578000  \n",
       "75%              6.293000  \n",
       "max              7.821000  "
      ]
     },
     "execution_count": 4,
     "metadata": {},
     "output_type": "execute_result"
    }
   ],
   "source": [
    "df.describe()"
   ]
  },
  {
   "cell_type": "code",
   "execution_count": 5,
   "id": "a8dad7b9",
   "metadata": {},
   "outputs": [
    {
     "data": {
      "text/plain": [
       "Index(['population_2024', 'population_growthRate', 'land_area', 'country',\n",
       "       'region', 'unMember', 'population_density', 'population_densityMi',\n",
       "       'share_borders', 'Hdi2021', 'Hdi2020', 'WorldHappiness2022'],\n",
       "      dtype='object')"
      ]
     },
     "execution_count": 5,
     "metadata": {},
     "output_type": "execute_result"
    }
   ],
   "source": [
    "df.columns"
   ]
  },
  {
   "cell_type": "code",
   "execution_count": 6,
   "id": "c9f07cb6",
   "metadata": {},
   "outputs": [
    {
     "data": {
      "text/plain": [
       "population_2024            int64\n",
       "population_growthRate    float64\n",
       "land_area                  int64\n",
       "country                   object\n",
       "region                    object\n",
       "unMember                    bool\n",
       "population_density       float64\n",
       "population_densityMi     float64\n",
       "share_borders             object\n",
       "Hdi2021                  float64\n",
       "Hdi2020                  float64\n",
       "WorldHappiness2022       float64\n",
       "dtype: object"
      ]
     },
     "execution_count": 6,
     "metadata": {},
     "output_type": "execute_result"
    }
   ],
   "source": [
    "# columns types\n",
    "\n",
    "df.dtypes"
   ]
  },
  {
   "cell_type": "markdown",
   "id": "0ee92832",
   "metadata": {},
   "source": [
    "We are going to drop the columns: population_2024, country, region, population_density, shared_borders, hdi_2020 because these features are not of interest to us for predicting the World Happiness Index. Another decision was to drop population and population_density because there is another feature that provides us with the same information."
   ]
  },
  {
   "cell_type": "code",
   "execution_count": 20,
   "id": "604a70d6",
   "metadata": {},
   "outputs": [],
   "source": [
    "# creating a dataframe copy\n",
    "\n",
    "df_copy = df.copy()\n",
    "\n",
    "# drop the columns\n",
    "\n",
    "df_copy = df_copy.drop(columns=['population_2024','country','region','population_density','share_borders'])\n",
    "\n"
   ]
  },
  {
   "cell_type": "code",
   "execution_count": 21,
   "id": "acab7045",
   "metadata": {},
   "outputs": [
    {
     "name": "stdout",
     "output_type": "stream",
     "text": [
      "<class 'pandas.core.frame.DataFrame'>\n",
      "RangeIndex: 141 entries, 0 to 140\n",
      "Data columns (total 7 columns):\n",
      " #   Column                 Non-Null Count  Dtype  \n",
      "---  ------                 --------------  -----  \n",
      " 0   population_growthRate  141 non-null    float64\n",
      " 1   land_area              141 non-null    int64  \n",
      " 2   unMember               141 non-null    bool   \n",
      " 3   population_densityMi   141 non-null    float64\n",
      " 4   Hdi2021                141 non-null    float64\n",
      " 5   Hdi2020                141 non-null    float64\n",
      " 6   WorldHappiness2022     141 non-null    float64\n",
      "dtypes: bool(1), float64(5), int64(1)\n",
      "memory usage: 6.9 KB\n"
     ]
    }
   ],
   "source": [
    "df_copy.info()"
   ]
  },
  {
   "cell_type": "code",
   "execution_count": 22,
   "id": "38066474",
   "metadata": {},
   "outputs": [
    {
     "data": {
      "text/html": [
       "<div>\n",
       "<style scoped>\n",
       "    .dataframe tbody tr th:only-of-type {\n",
       "        vertical-align: middle;\n",
       "    }\n",
       "\n",
       "    .dataframe tbody tr th {\n",
       "        vertical-align: top;\n",
       "    }\n",
       "\n",
       "    .dataframe thead th {\n",
       "        text-align: right;\n",
       "    }\n",
       "</style>\n",
       "<table border=\"1\" class=\"dataframe\">\n",
       "  <thead>\n",
       "    <tr style=\"text-align: right;\">\n",
       "      <th></th>\n",
       "      <th>population_growthRate</th>\n",
       "      <th>land_area</th>\n",
       "      <th>population_densityMi</th>\n",
       "      <th>Hdi2021</th>\n",
       "      <th>Hdi2020</th>\n",
       "      <th>WorldHappiness2022</th>\n",
       "    </tr>\n",
       "  </thead>\n",
       "  <tbody>\n",
       "    <tr>\n",
       "      <th>count</th>\n",
       "      <td>141.000000</td>\n",
       "      <td>1.410000e+02</td>\n",
       "      <td>141.000000</td>\n",
       "      <td>141.000000</td>\n",
       "      <td>141.000000</td>\n",
       "      <td>141.000000</td>\n",
       "    </tr>\n",
       "    <tr>\n",
       "      <th>mean</th>\n",
       "      <td>0.009327</td>\n",
       "      <td>8.734306e+05</td>\n",
       "      <td>706.401985</td>\n",
       "      <td>0.737199</td>\n",
       "      <td>0.737596</td>\n",
       "      <td>5.542582</td>\n",
       "    </tr>\n",
       "    <tr>\n",
       "      <th>std</th>\n",
       "      <td>0.012112</td>\n",
       "      <td>2.200180e+06</td>\n",
       "      <td>2449.155844</td>\n",
       "      <td>0.153844</td>\n",
       "      <td>0.152319</td>\n",
       "      <td>1.105247</td>\n",
       "    </tr>\n",
       "    <tr>\n",
       "      <th>min</th>\n",
       "      <td>-0.030870</td>\n",
       "      <td>3.160000e+02</td>\n",
       "      <td>5.809600</td>\n",
       "      <td>0.394000</td>\n",
       "      <td>0.397000</td>\n",
       "      <td>2.404000</td>\n",
       "    </tr>\n",
       "    <tr>\n",
       "      <th>25%</th>\n",
       "      <td>0.001180</td>\n",
       "      <td>6.455900e+04</td>\n",
       "      <td>96.781300</td>\n",
       "      <td>0.607000</td>\n",
       "      <td>0.610000</td>\n",
       "      <td>4.744000</td>\n",
       "    </tr>\n",
       "    <tr>\n",
       "      <th>50%</th>\n",
       "      <td>0.008920</td>\n",
       "      <td>2.383910e+05</td>\n",
       "      <td>225.680700</td>\n",
       "      <td>0.754000</td>\n",
       "      <td>0.756000</td>\n",
       "      <td>5.578000</td>\n",
       "    </tr>\n",
       "    <tr>\n",
       "      <th>75%</th>\n",
       "      <td>0.018230</td>\n",
       "      <td>6.522300e+05</td>\n",
       "      <td>440.993500</td>\n",
       "      <td>0.875000</td>\n",
       "      <td>0.871000</td>\n",
       "      <td>6.293000</td>\n",
       "    </tr>\n",
       "    <tr>\n",
       "      <th>max</th>\n",
       "      <td>0.038090</td>\n",
       "      <td>1.709824e+07</td>\n",
       "      <td>21833.588200</td>\n",
       "      <td>0.962000</td>\n",
       "      <td>0.959000</td>\n",
       "      <td>7.821000</td>\n",
       "    </tr>\n",
       "  </tbody>\n",
       "</table>\n",
       "</div>"
      ],
      "text/plain": [
       "       population_growthRate     land_area  population_densityMi     Hdi2021  \\\n",
       "count             141.000000  1.410000e+02            141.000000  141.000000   \n",
       "mean                0.009327  8.734306e+05            706.401985    0.737199   \n",
       "std                 0.012112  2.200180e+06           2449.155844    0.153844   \n",
       "min                -0.030870  3.160000e+02              5.809600    0.394000   \n",
       "25%                 0.001180  6.455900e+04             96.781300    0.607000   \n",
       "50%                 0.008920  2.383910e+05            225.680700    0.754000   \n",
       "75%                 0.018230  6.522300e+05            440.993500    0.875000   \n",
       "max                 0.038090  1.709824e+07          21833.588200    0.962000   \n",
       "\n",
       "          Hdi2020  WorldHappiness2022  \n",
       "count  141.000000          141.000000  \n",
       "mean     0.737596            5.542582  \n",
       "std      0.152319            1.105247  \n",
       "min      0.397000            2.404000  \n",
       "25%      0.610000            4.744000  \n",
       "50%      0.756000            5.578000  \n",
       "75%      0.871000            6.293000  \n",
       "max      0.959000            7.821000  "
      ]
     },
     "execution_count": 22,
     "metadata": {},
     "output_type": "execute_result"
    }
   ],
   "source": [
    "df_copy.describe()"
   ]
  },
  {
   "cell_type": "code",
   "execution_count": 23,
   "id": "d8fe2737",
   "metadata": {},
   "outputs": [
    {
     "data": {
      "image/png": "[encoded data removed]",
      "text/plain": [
       "<Figure size 432x288 with 1 Axes>"
      ]
     },
     "metadata": {
      "needs_background": "light"
     },
     "output_type": "display_data"
    },
    {
     "data": {
      "image/png": "[encoded data removed]",
      "text/plain": [
       "<Figure size 432x288 with 1 Axes>"
      ]
     },
     "metadata": {
      "needs_background": "light"
     },
     "output_type": "display_data"
    },
    {
     "data": {
      "image/png": "[encoded data removed]",
      "text/plain": [
       "<Figure size 432x288 with 1 Axes>"
      ]
     },
     "metadata": {
      "needs_background": "light"
     },
     "output_type": "display_data"
    },
    {
     "data": {
      "image/png": "[encoded data removed]",
      "text/plain": [
       "<Figure size 432x288 with 1 Axes>"
      ]
     },
     "metadata": {
      "needs_background": "light"
     },
     "output_type": "display_data"
    },
    {
     "data": {
      "image/png": "[encoded data removed]",
      "text/plain": [
       "<Figure size 432x288 with 1 Axes>"
      ]
     },
     "metadata": {
      "needs_background": "light"
     },
     "output_type": "display_data"
    },
    {
     "data": {
      "image/png": "[encoded data removed]",
      "text/plain": [
       "<Figure size 432x288 with 1 Axes>"
      ]
     },
     "metadata": {
      "needs_background": "light"
     },
     "output_type": "display_data"
    }
   ],
   "source": [
    "\n",
    "df_columns = ['population_growthRate', 'land_area', 'population_densityMi', 'Hdi2020', 'Hdi2021', 'WorldHappiness2022']\n",
    "\n",
    "for i in df_columns:\n",
    "    figure, ax = plt.subplots()\n",
    "    sns.boxplot(data=df[i])\n",
    "    ax.set_xlabel(i)\n",
    "    ax.set_ylabel('Values')\n",
    "    ax.set_title('Boxplot for {}'.format(i))\n",
    "    plt.show()\n",
    "\n"
   ]
  },
  {
   "cell_type": "markdown",
   "id": "9a42e92b",
   "metadata": {},
   "source": [
    "In two boxplots, there is a presence of many outliers. For now, we will choose to remove these variables from our model. If necessary, we will consider them again and make transformations to reduce the impact of outliers on the prediction model.\n",
    "\n",
    "Therefore, we will remove the variables: land_area and population_densityMi."
   ]
  },
  {
   "cell_type": "code",
   "execution_count": 24,
   "id": "c95acc3b",
   "metadata": {},
   "outputs": [
    {
     "data": {
      "text/plain": [
       "True     140\n",
       "False      1\n",
       "Name: unMember, dtype: int64"
      ]
     },
     "execution_count": 24,
     "metadata": {},
     "output_type": "execute_result"
    }
   ],
   "source": [
    "df_copy['unMember'].value_counts()"
   ]
  },
  {
   "cell_type": "markdown",
   "id": "ba157ace",
   "metadata": {},
   "source": [
    "Here we can see that we have only one country that is not a member of the United Nations. We will remove this variable from the model for this reason. We don't have enough data between the two groups to perform the necessary analyses."
   ]
  },
  {
   "cell_type": "code",
   "execution_count": 25,
   "id": "2ba18bdb",
   "metadata": {},
   "outputs": [
    {
     "data": {
      "text/plain": [
       "population_growthRate    float64\n",
       "Hdi2021                  float64\n",
       "Hdi2020                  float64\n",
       "WorldHappiness2022       float64\n",
       "dtype: object"
      ]
     },
     "execution_count": 25,
     "metadata": {},
     "output_type": "execute_result"
    }
   ],
   "source": [
    "df_model = df_copy.drop(columns=['population_densityMi','land_area', 'unMember'])\n",
    "df_model.dtypes"
   ]
  },
  {
   "cell_type": "markdown",
   "id": "4e7795c6",
   "metadata": {},
   "source": [
    "## features vc target"
   ]
  },
  {
   "cell_type": "markdown",
   "id": "1e59468e",
   "metadata": {},
   "source": [
    "We will check how the features are correlated with the target."
   ]
  },
  {
   "cell_type": "code",
   "execution_count": 28,
   "id": "9472ac3b",
   "metadata": {},
   "outputs": [
    {
     "name": "stderr",
     "output_type": "stream",
     "text": [
      "No artists with labels found to put in legend.  Note that artists whose label start with an underscore are ignored when legend() is called with no argument.\n"
     ]
    },
    {
     "data": {
      "image/png": "[encoded data removed]",
      "text/plain": [
       "<Figure size 432x288 with 1 Axes>"
      ]
     },
     "metadata": {
      "needs_background": "light"
     },
     "output_type": "display_data"
    },
    {
     "name": "stderr",
     "output_type": "stream",
     "text": [
      "No artists with labels found to put in legend.  Note that artists whose label start with an underscore are ignored when legend() is called with no argument.\n"
     ]
    },
    {
     "data": {
      "image/png": "[encoded data removed]",
      "text/plain": [
       "<Figure size 432x288 with 1 Axes>"
      ]
     },
     "metadata": {
      "needs_background": "light"
     },
     "output_type": "display_data"
    },
    {
     "name": "stderr",
     "output_type": "stream",
     "text": [
      "No artists with labels found to put in legend.  Note that artists whose label start with an underscore are ignored when legend() is called with no argument.\n"
     ]
    },
    {
     "data": {
      "image/png": "[encoded data removed]",
      "text/plain": [
       "<Figure size 432x288 with 1 Axes>"
      ]
     },
     "metadata": {
      "needs_background": "light"
     },
     "output_type": "display_data"
    }
   ],
   "source": [
    "y = 'WorldHappiness2022'\n",
    "x = df_model.select_dtypes(include=['float64'])\n",
    "\n",
    "for i in x:\n",
    "    if i != y:\n",
    "        figure, ax = plt.subplots()\n",
    "        ax.scatter(df_copy[i], df_copy[y])\n",
    "        \n",
    "        ax.set_xlabel(i)\n",
    "        ax.set_ylabel(y)\n",
    "        ax.set_title('{} vs {}'.format(i, y))\n",
    "        \n",
    "        ax.legend()\n",
    "        \n",
    "        plt.show()"
   ]
  },
  {
   "cell_type": "markdown",
   "id": "bd843f2c",
   "metadata": {},
   "source": [
    "It appears that there is some linear correlation between the features and our target. However, in the first graph, there is not a perfect linear correlation. We can use a line to approximate our data."
   ]
  },
  {
   "cell_type": "markdown",
   "id": "f54f6284",
   "metadata": {},
   "source": [
    "## features vs features"
   ]
  },
  {
   "cell_type": "code",
   "execution_count": 29,
   "id": "5e3791f7",
   "metadata": {},
   "outputs": [
    {
     "data": {
      "image/png": "[encoded data removed]",
      "text/plain": [
       "<Figure size 576x432 with 2 Axes>"
      ]
     },
     "metadata": {
      "needs_background": "light"
     },
     "output_type": "display_data"
    }
   ],
   "source": [
    "corr = df_model.corr()\n",
    "plt.figure(figsize =(8,6))\n",
    "sns.heatmap(df_model.corr(), annot=True, cmap='crest')\n",
    "plt.show()"
   ]
  },
  {
   "cell_type": "code",
   "execution_count": 30,
   "id": "9a04bc19",
   "metadata": {},
   "outputs": [
    {
     "data": {
      "image/png": "[encoded data removed]",
      "text/plain": [
       "<Figure size 576x432 with 2 Axes>"
      ]
     },
     "metadata": {
      "needs_background": "light"
     },
     "output_type": "display_data"
    }
   ],
   "source": [
    "corr = df_copy.corr()\n",
    "plt.figure(figsize =(8,6))\n",
    "sns.heatmap(df_copy.corr(), annot=True, cmap='crest')\n",
    "plt.show()"
   ]
  },
  {
   "cell_type": "markdown",
   "id": "8fcb289f",
   "metadata": {},
   "source": [
    "Comparing the two heatmaps depicting the correlation between the features, we can observe that the highest correlations are between 'population_growthRate', 'Hdi2021', 'Hdi2020', and 'WorldHappiness2022'. However, 'Hdi2020' and 'Hdi2021' exhibit a perfect correlation. Therefore, we will drop 'Hdi2020' to avoid multicollinearity between the features."
   ]
  },
  {
   "cell_type": "code",
   "execution_count": 33,
   "id": "754f26bc",
   "metadata": {},
   "outputs": [
    {
     "data": {
      "text/html": [
       "<div>\n",
       "<style scoped>\n",
       "    .dataframe tbody tr th:only-of-type {\n",
       "        vertical-align: middle;\n",
       "    }\n",
       "\n",
       "    .dataframe tbody tr th {\n",
       "        vertical-align: top;\n",
       "    }\n",
       "\n",
       "    .dataframe thead th {\n",
       "        text-align: right;\n",
       "    }\n",
       "</style>\n",
       "<table border=\"1\" class=\"dataframe\">\n",
       "  <thead>\n",
       "    <tr style=\"text-align: right;\">\n",
       "      <th></th>\n",
       "      <th>population_growthRate</th>\n",
       "      <th>Hdi2021</th>\n",
       "      <th>WorldHappiness2022</th>\n",
       "    </tr>\n",
       "  </thead>\n",
       "  <tbody>\n",
       "    <tr>\n",
       "      <th>0</th>\n",
       "      <td>0.00916</td>\n",
       "      <td>0.633</td>\n",
       "      <td>3.777</td>\n",
       "    </tr>\n",
       "    <tr>\n",
       "      <th>1</th>\n",
       "      <td>-0.00035</td>\n",
       "      <td>0.768</td>\n",
       "      <td>5.585</td>\n",
       "    </tr>\n",
       "    <tr>\n",
       "      <th>2</th>\n",
       "      <td>0.00535</td>\n",
       "      <td>0.921</td>\n",
       "      <td>6.977</td>\n",
       "    </tr>\n",
       "    <tr>\n",
       "      <th>3</th>\n",
       "      <td>0.00816</td>\n",
       "      <td>0.705</td>\n",
       "      <td>5.240</td>\n",
       "    </tr>\n",
       "    <tr>\n",
       "      <th>4</th>\n",
       "      <td>0.01964</td>\n",
       "      <td>0.544</td>\n",
       "      <td>4.516</td>\n",
       "    </tr>\n",
       "    <tr>\n",
       "      <th>...</th>\n",
       "      <td>...</td>\n",
       "      <td>...</td>\n",
       "      <td>...</td>\n",
       "    </tr>\n",
       "    <tr>\n",
       "      <th>136</th>\n",
       "      <td>0.01823</td>\n",
       "      <td>0.558</td>\n",
       "      <td>4.609</td>\n",
       "    </tr>\n",
       "    <tr>\n",
       "      <th>137</th>\n",
       "      <td>0.01043</td>\n",
       "      <td>0.930</td>\n",
       "      <td>7.404</td>\n",
       "    </tr>\n",
       "    <tr>\n",
       "      <th>138</th>\n",
       "      <td>-0.00061</td>\n",
       "      <td>0.832</td>\n",
       "      <td>5.547</td>\n",
       "    </tr>\n",
       "    <tr>\n",
       "      <th>139</th>\n",
       "      <td>0.00313</td>\n",
       "      <td>0.918</td>\n",
       "      <td>6.447</td>\n",
       "    </tr>\n",
       "    <tr>\n",
       "      <th>140</th>\n",
       "      <td>0.00632</td>\n",
       "      <td>0.959</td>\n",
       "      <td>7.557</td>\n",
       "    </tr>\n",
       "  </tbody>\n",
       "</table>\n",
       "<p>141 rows × 3 columns</p>\n",
       "</div>"
      ],
      "text/plain": [
       "     population_growthRate  Hdi2021  WorldHappiness2022\n",
       "0                  0.00916    0.633               3.777\n",
       "1                 -0.00035    0.768               5.585\n",
       "2                  0.00535    0.921               6.977\n",
       "3                  0.00816    0.705               5.240\n",
       "4                  0.01964    0.544               4.516\n",
       "..                     ...      ...                 ...\n",
       "136                0.01823    0.558               4.609\n",
       "137                0.01043    0.930               7.404\n",
       "138               -0.00061    0.832               5.547\n",
       "139                0.00313    0.918               6.447\n",
       "140                0.00632    0.959               7.557\n",
       "\n",
       "[141 rows x 3 columns]"
      ]
     },
     "execution_count": 33,
     "metadata": {},
     "output_type": "execute_result"
    }
   ],
   "source": [
    "df_model = df_model.drop(columns=['Hdi2020'])\n",
    "df_model"
   ]
  },
  {
   "cell_type": "code",
   "execution_count": 34,
   "id": "03e95476",
   "metadata": {},
   "outputs": [
    {
     "data": {
      "image/png": "[encoded data removed]",
      "text/plain": [
       "<Figure size 576x432 with 2 Axes>"
      ]
     },
     "metadata": {
      "needs_background": "light"
     },
     "output_type": "display_data"
    }
   ],
   "source": [
    "corr = df_model.corr()\n",
    "plt.figure(figsize =(8,6))\n",
    "sns.heatmap(df_model.corr(), annot=True, cmap='crest')\n",
    "plt.show()"
   ]
  },
  {
   "cell_type": "markdown",
   "id": "57e0ae31",
   "metadata": {},
   "source": [
    "Here we see that the variable 'Hdi2021' has a high correlation with 'population_growthRate' (in absolute terms). This may lead to multicollinearity. Since the correlation is not perfect, it may still contribute positively to the model. We will evaluate the model's performance with both variables and without one of them to determine the best option."
   ]
  },
  {
   "cell_type": "markdown",
   "id": "2dace659",
   "metadata": {},
   "source": [
    "## Assumptions for regression"
   ]
  },
  {
   "cell_type": "markdown",
   "id": "ed876adb",
   "metadata": {},
   "source": [
    "### 1) Linearity"
   ]
  },
  {
   "cell_type": "markdown",
   "id": "7f6a9655",
   "metadata": {},
   "source": [
    "It was done above."
   ]
  },
  {
   "cell_type": "markdown",
   "id": "d072c5f8",
   "metadata": {},
   "source": [
    "### 2) Multicollinearity"
   ]
  },
  {
   "cell_type": "code",
   "execution_count": 37,
   "id": "7b3ba5d2",
   "metadata": {},
   "outputs": [
    {
     "data": {
      "text/html": [
       "<div>\n",
       "<style scoped>\n",
       "    .dataframe tbody tr th:only-of-type {\n",
       "        vertical-align: middle;\n",
       "    }\n",
       "\n",
       "    .dataframe tbody tr th {\n",
       "        vertical-align: top;\n",
       "    }\n",
       "\n",
       "    .dataframe thead th {\n",
       "        text-align: right;\n",
       "    }\n",
       "</style>\n",
       "<table border=\"1\" class=\"dataframe\">\n",
       "  <thead>\n",
       "    <tr style=\"text-align: right;\">\n",
       "      <th></th>\n",
       "      <th>variable</th>\n",
       "      <th>VIF</th>\n",
       "    </tr>\n",
       "  </thead>\n",
       "  <tbody>\n",
       "    <tr>\n",
       "      <th>0</th>\n",
       "      <td>population_growthRate</td>\n",
       "      <td>1.309312</td>\n",
       "    </tr>\n",
       "    <tr>\n",
       "      <th>1</th>\n",
       "      <td>Hdi2021</td>\n",
       "      <td>1.309312</td>\n",
       "    </tr>\n",
       "  </tbody>\n",
       "</table>\n",
       "</div>"
      ],
      "text/plain": [
       "                variable       VIF\n",
       "0  population_growthRate  1.309312\n",
       "1                Hdi2021  1.309312"
      ]
     },
     "execution_count": 37,
     "metadata": {},
     "output_type": "execute_result"
    }
   ],
   "source": [
    "from statsmodels.stats.outliers_influence import variance_inflation_factor\n",
    "\n",
    "X = df_model[['population_growthRate','Hdi2021']]\n",
    "vif = pd.DataFrame()\n",
    "vif['variable']= X.columns\n",
    "vif['VIF']= [variance_inflation_factor(X.values,i) for i in range(X.shape[1])]\n",
    "\n",
    "vif"
   ]
  },
  {
   "cell_type": "markdown",
   "id": "2720fca5",
   "metadata": {},
   "source": [
    "All of the VIFs are less than 5. This indicates that these features are not highly correlated with each other."
   ]
  },
  {
   "cell_type": "code",
   "execution_count": null,
   "id": "88d7aa71",
   "metadata": {},
   "outputs": [],
   "source": []
  }
 ],
 "metadata": {
  "kernelspec": {
   "display_name": "Python 3 (ipykernel)",
   "language": "python",
   "name": "python3"
  },
  "language_info": {
   "codemirror_mode": {
    "name": "ipython",
    "version": 3
   },
   "file_extension": ".py",
   "mimetype": "text/x-python",
   "name": "python",
   "nbconvert_exporter": "python",
   "pygments_lexer": "ipython3",
   "version": "3.9.12"
  }
 },
 "nbformat": 4,
 "nbformat_minor": 5
}
